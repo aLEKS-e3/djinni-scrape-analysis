{
 "cells": [
  {
   "cell_type": "markdown",
   "id": "b6897a71bf584a74",
   "metadata": {},
   "source": [
    "# Vacancy Analysis"
   ]
  },
  {
   "cell_type": "code",
   "execution_count": null,
   "id": "261afce5ba18c3e3",
   "metadata": {
    "ExecuteTime": {
     "end_time": "2024-05-03T14:18:29.141142Z",
     "start_time": "2024-05-03T14:18:29.116534Z"
    }
   },
   "outputs": [],
   "source": [
    "import numpy as np\n",
    "import pandas as pd\n",
    "import matplotlib.pyplot as plt\n",
    "from datetime import datetime"
   ]
  },
  {
   "cell_type": "markdown",
   "id": "cff13b2c7db371cb",
   "metadata": {},
   "source": [
    "## Technology Stack Analysis"
   ]
  },
  {
   "cell_type": "markdown",
   "id": "5bcadbf958a62252",
   "metadata": {},
   "source": [
    "### Task:\n",
    "- Analyze the technology stacks mentioned in job listings to identify commonly required skills.\n",
    "- Determine the frequency of specific technologies (e.g., SQL, Django, Docker) to understand their popularity among employers."
   ]
  },
  {
   "cell_type": "code",
   "execution_count": null,
   "id": "ca54408a2ee69a20",
   "metadata": {
    "ExecuteTime": {
     "end_time": "2024-05-03T14:10:43.189143Z",
     "start_time": "2024-05-03T14:10:43.152828Z"
    }
   },
   "outputs": [],
   "source": [
    "vacancy_df = pd.read_csv(\"data/python.csv\")\n",
    "vacancy_df = vacancy_df.dropna()\n",
    "\n",
    "vacancy_df.head()"
   ]
  },
  {
   "cell_type": "code",
   "execution_count": null,
   "id": "65f1d2bd97aaff5a",
   "metadata": {},
   "outputs": [],
   "source": [
    "def get_technology_count_df(df: pd.DataFrame) -> pd.DataFrame:\n",
    "    stack_series = df[\"stack\"]\n",
    "    \n",
    "    stack_df = pd.DataFrame(stack_series.str.strip(\"['']\").str.split(\"', '\").explode())\n",
    "    \n",
    "    technology_counts = stack_df.value_counts()\n",
    "    technology_counts = technology_counts.reset_index().set_index(\"stack\")\n",
    "    \n",
    "    return technology_counts"
   ]
  },
  {
   "cell_type": "code",
   "execution_count": null,
   "id": "54a95007f92ff3fb",
   "metadata": {
    "ExecuteTime": {
     "end_time": "2024-05-03T14:10:43.244754Z",
     "start_time": "2024-05-03T14:10:43.191699Z"
    }
   },
   "outputs": [],
   "source": [
    "technology_counts = get_technology_count_df(vacancy_df)\n",
    "technology_counts.head()"
   ]
  },
  {
   "cell_type": "code",
   "execution_count": null,
   "id": "ea4536e7e4d08a97",
   "metadata": {
    "ExecuteTime": {
     "end_time": "2024-05-03T14:20:06.336665Z",
     "start_time": "2024-05-03T14:20:06.330892Z"
    }
   },
   "outputs": [],
   "source": [
    "def create_bar_chart(\n",
    "        data: pd.Series,\n",
    "        xlabel: str,\n",
    "        ylabel: str,\n",
    "        title: str,\n",
    "        save: bool = False\n",
    ") -> None:\n",
    "    data = data.sort_values(by=\"count\")\n",
    "    data.plot(kind=\"barh\", figsize=(10, 8))\n",
    "    \n",
    "    plt.xlabel(xlabel)\n",
    "    plt.ylabel(ylabel)\n",
    "    plt.title(title)\n",
    "    \n",
    "    plt.margins(y=0.9)\n",
    "    plt.xticks()\n",
    "    plt.tight_layout()\n",
    "    \n",
    "    if save:\n",
    "        plt.savefig(f\"{datetime.now().date()}-stack-analysis.jpg\")\n",
    "    \n",
    "    plt.show()"
   ]
  },
  {
   "cell_type": "code",
   "execution_count": null,
   "id": "470660849960fc0c",
   "metadata": {
    "ExecuteTime": {
     "end_time": "2024-05-03T14:20:11.333891Z",
     "start_time": "2024-05-03T14:20:09.354790Z"
    }
   },
   "outputs": [],
   "source": [
    "technology_analysis_labels = {\n",
    "    \"xlabel\": \"Count\",\n",
    "    \"ylabel\": \"Technology\",\n",
    "    \"title\": \"Technology Stack Analysis\"\n",
    "}\n",
    "create_bar_chart(technology_counts, **technology_analysis_labels, save=True)"
   ]
  },
  {
   "cell_type": "markdown",
   "id": "9b11f6776c9e752d",
   "metadata": {},
   "source": [
    "### Location Analysis"
   ]
  },
  {
   "cell_type": "markdown",
   "id": "7383b963b22bc766",
   "metadata": {},
   "source": [
    "#### Task:\n",
    "- Count the number of job listings by location.\n",
    "- Visualize the distribution of job listings on a chart.\n",
    "- Analyze the popularity of different locations for job opportunities."
   ]
  },
  {
   "cell_type": "code",
   "execution_count": null,
   "id": "cd7d4f169abdc378",
   "metadata": {},
   "outputs": [],
   "source": [
    "def shorten_location(df: pd.DataFrame) -> pd.DataFrame:\n",
    "    location_series = df[\"location\"]\n",
    "    \n",
    "    location_df = pd.DataFrame(location_series.str.split(\", \").explode())\n",
    "    \n",
    "    length = 25\n",
    "    shortened = pd.Series(\n",
    "        label[:length] + \"...\"\n",
    "        if len(label) > length else label\n",
    "        for label in location_df[\"location\"]\n",
    "    )\n",
    "    location_df[\"location\"] = shortened\n",
    "    \n",
    "    return location_df"
   ]
  },
  {
   "cell_type": "code",
   "execution_count": null,
   "id": "30c500bcec9928d",
   "metadata": {
    "ExecuteTime": {
     "end_time": "2024-05-03T14:10:44.650068Z",
     "start_time": "2024-05-03T14:10:44.623710Z"
    }
   },
   "outputs": [],
   "source": [
    "location_df = shorten_location(vacancy_df)\n",
    "location_df.head()"
   ]
  },
  {
   "cell_type": "code",
   "execution_count": null,
   "id": "679cbc73ca835d49",
   "metadata": {
    "ExecuteTime": {
     "end_time": "2024-05-03T14:10:44.699327Z",
     "start_time": "2024-05-03T14:10:44.654089Z"
    }
   },
   "outputs": [],
   "source": [
    "location_counts = location_df.value_counts()\n",
    "location_counts = location_counts.reset_index().set_index(\"location\")\n",
    "\n",
    "location_counts.head()"
   ]
  },
  {
   "cell_type": "code",
   "execution_count": null,
   "id": "af3465addc90b749",
   "metadata": {
    "ExecuteTime": {
     "end_time": "2024-05-03T14:10:45.636601Z",
     "start_time": "2024-05-03T14:10:44.702781Z"
    }
   },
   "outputs": [],
   "source": [
    "create_bar_chart(location_counts, \"Location\", \"Count\", \"Working Location Analysis\")"
   ]
  },
  {
   "cell_type": "markdown",
   "id": "c762fa551d12f02f",
   "metadata": {},
   "source": [
    "### Experience-Technology Relation Analysis"
   ]
  },
  {
   "cell_type": "code",
   "execution_count": null,
   "id": "6fac189aaca331ea",
   "metadata": {
    "ExecuteTime": {
     "end_time": "2024-05-03T14:10:45.676482Z",
     "start_time": "2024-05-03T14:10:45.640851Z"
    }
   },
   "outputs": [],
   "source": [
    "vacancy_1y_df = pd.read_csv(\"data/python_0-1.csv\")\n",
    "vacancy_1y_df = vacancy_1y_df.dropna()\n",
    "\n",
    "vacancy_5y_df = pd.read_csv(\"data/python_5+.csv\")\n",
    "vacancy_5y_df = vacancy_5y_df.dropna()\n",
    "\n",
    "vacancy_5y_df.head()"
   ]
  },
  {
   "cell_type": "code",
   "execution_count": null,
   "id": "ecf2b617113ed422",
   "metadata": {
    "ExecuteTime": {
     "end_time": "2024-05-03T14:10:45.721971Z",
     "start_time": "2024-05-03T14:10:45.679913Z"
    }
   },
   "outputs": [],
   "source": [
    "technology_counts_1y = get_technology_count_df(vacancy_1y_df)\n",
    "technology_counts_5y = get_technology_count_df(vacancy_5y_df)\n",
    "\n",
    "technology_counts_5y.head()"
   ]
  },
  {
   "cell_type": "code",
   "execution_count": null,
   "id": "a77e25725b50b5a1",
   "metadata": {
    "ExecuteTime": {
     "end_time": "2024-05-03T14:10:47.475221Z",
     "start_time": "2024-05-03T14:10:45.727865Z"
    }
   },
   "outputs": [],
   "source": [
    "technology_1y_chart = create_bar_chart(technology_counts_1y, **technology_analysis_labels)\n",
    "technology_5y_chart = create_bar_chart(technology_counts_5y, **technology_analysis_labels)"
   ]
  },
  {
   "cell_type": "code",
   "execution_count": null,
   "id": "6937becdf342f339",
   "metadata": {
    "ExecuteTime": {
     "end_time": "2024-05-03T14:10:47.483029Z",
     "start_time": "2024-05-03T14:10:47.477522Z"
    }
   },
   "outputs": [],
   "source": []
  }
 ],
 "metadata": {
  "kernelspec": {
   "display_name": "Python 3 (ipykernel)",
   "language": "python",
   "name": "python3"
  },
  "language_info": {
   "codemirror_mode": {
    "name": "ipython",
    "version": 3
   },
   "file_extension": ".py",
   "mimetype": "text/x-python",
   "name": "python",
   "nbconvert_exporter": "python",
   "pygments_lexer": "ipython3",
   "version": "3.12.3"
  }
 },
 "nbformat": 4,
 "nbformat_minor": 5
}
